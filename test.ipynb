{
 "cells": [
  {
   "cell_type": "code",
   "execution_count": 1,
   "metadata": {},
   "outputs": [],
   "source": [
    "import streamlit as st\n",
    "from langchain_openai import OpenAI, ChatOpenAI\n",
    "from langchain.prompts import PromptTemplate\n",
    "from langchain.chains.conversation.memory import ConversationSummaryMemory\n",
    "from langchain.chains import ConversationChain\n",
    "from langchain.memory import ChatMessageHistory\n",
    "from dotenv import load_dotenv\n",
    "from langchain.schema import HumanMessage, AIMessage, SystemMessage\n",
    "import os"
   ]
  },
  {
   "cell_type": "code",
   "execution_count": 19,
   "metadata": {},
   "outputs": [],
   "source": [
    "\n",
    "\n",
    "# get openai_api_key\n",
    "load_dotenv()\n",
    "os.environ['OPENAI_API_KEY'] = os.getenv('OPENAI_API_KEY')\n",
    "\n",
    "chat = ChatOpenAI(temperature=0.5,model='gpt-3.5-turbo')\n",
    "llm = OpenAI(temperature=0.5,model='gpt-3.5-turbo', max_tokens=256)\n",
    "memory = ConversationSummaryMemory(llm=OpenAI())\n",
    "history = ChatMessageHistory()\n",
    "\n",
    "\n",
    "memory.clear()\n",
    "\n",
    "conversation = ConversationChain(\n",
    "    llm = chat,\n",
    "    verbose=False,\n",
    "    memory=memory\n",
    ")\n"
   ]
  },
  {
   "cell_type": "code",
   "execution_count": 20,
   "metadata": {},
   "outputs": [
    {
     "data": {
      "text/plain": [
       "'He had six wives in total.'"
      ]
     },
     "execution_count": 20,
     "metadata": {},
     "output_type": "execute_result"
    }
   ],
   "source": [
    "\n",
    "conversation.predict(input='how many wives did he have?')"
   ]
  },
  {
   "cell_type": "code",
   "execution_count": null,
   "metadata": {},
   "outputs": [],
   "source": [
    "\n",
    "\n",
    "def get_llm_response(q):\n",
    "    response = conversation.predict(input=q)\n",
    "    return response\n",
    "\n",
    "# Streamlit webpage customisation\n",
    "st.set_page_config(page_title='Your Friendly Chatbot', layout='wide')\n",
    "\n",
    "st.header('Just a friendly chatbot')\n",
    "q = st.text_input(\"Ask me anything: \",key=\"input\")\n",
    "if st.button('Generate response'):\n",
    "    # st.text('Here is what I got :')\n",
    "    st.write(get_llm_response(q))\n",
    "\n",
    "\n",
    "\n"
   ]
  }
 ],
 "metadata": {
  "kernelspec": {
   "display_name": "venv",
   "language": "python",
   "name": "python3"
  },
  "language_info": {
   "codemirror_mode": {
    "name": "ipython",
    "version": 3
   },
   "file_extension": ".py",
   "mimetype": "text/x-python",
   "name": "python",
   "nbconvert_exporter": "python",
   "pygments_lexer": "ipython3",
   "version": "3.11.7"
  }
 },
 "nbformat": 4,
 "nbformat_minor": 2
}
